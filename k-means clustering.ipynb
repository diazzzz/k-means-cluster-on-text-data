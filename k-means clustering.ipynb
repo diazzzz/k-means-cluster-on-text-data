{
 "cells": [
  {
   "cell_type": "code",
   "execution_count": null,
   "metadata": {
    "_cell_guid": "4957dd0a-1904-4e90-bda8-68d64a00bee2",
    "_uuid": "f6b5a98d-6619-4589-a43d-01bad700a103"
   },
   "outputs": [],
   "source": [
    "# This Python 3 environment comes with many helpful analytics libraries installed\n",
    "# It is defined by the kaggle/python docker image: https://github.com/kaggle/docker-python\n",
    "# For example, here's several helpful packages to load in \n",
    "\n",
    "import numpy as np # linear algebra\n",
    "\n",
    "# Input data files are available in the \"../input/\" directory.\n",
    "# For example, running this (by clicking run or pressing Shift+Enter) will list all files under the input directory\n",
    "\n",
    "import os\n",
    "for dirname, _, filenames in os.walk('/kaggle/input'):\n",
    "    for filename in filenames:\n",
    "        print(os.path.join(dirname, filename))\n",
    "\n",
    "# Any results you write to the current directory are saved as output.\n",
    "\n",
    "from sklearn.cluster import KMeans\n",
    "from collections import defaultdict\n",
    " \n",
    "import io\n",
    "    \n"
   ]
  },
  {
   "cell_type": "code",
   "execution_count": null,
   "metadata": {},
   "outputs": [],
   "source": [
    "def file_preprocess(file_name, nwords):\n",
    "  '''\n",
    "  function to readtext file and process it to create data for clustering\n",
    "  \n",
    "  RETURNS: numpy array of vector dimension and list of words\n",
    "  '''\n",
    "  np_arrays = []\n",
    "  wordlist = []\n",
    "  with io.open(file_name, mode='r', encoding='utf-8') as f:\n",
    "    #print(\"len\" , len(f.readlines()))\n",
    "    for index, line in enumerate(f):\n",
    "      tokens = line.split()\n",
    "      wordlist.append(tokens[0])\n",
    "      np_arrays.append( np.array([float(i) for i in tokens[1:]]) )\n",
    "\n",
    "      if index == nwords:\n",
    "        return np.array( np_arrays ), wordlist\n",
    "\n",
    "  return np.array( np_arrays ), wordlist\n",
    "\n",
    "\n",
    "def assign_word2cluster(word_list, cluster_labels):\n",
    "  '''\n",
    "  RETURNS: dict {\"cluster\":[words  assigend to cluster]}\n",
    "  '''\n",
    "  cluster_to_words = defaultdict(list)\n",
    "  for index, cluster in enumerate(cluster_labels):\n",
    "    cluster_to_words[ cluster ].append( word_list[index] )\n",
    "  return cluster_to_words\n",
    "\n",
    "\n"
   ]
  },
  {
   "cell_type": "code",
   "execution_count": 1,
   "metadata": {},
   "outputs": [
    {
     "ename": "NameError",
     "evalue": "name 'file_preprocess' is not defined",
     "output_type": "error",
     "traceback": [
      "\u001b[1;31m---------------------------------------------------------------------------\u001b[0m",
      "\u001b[1;31mNameError\u001b[0m                                 Traceback (most recent call last)",
      "\u001b[1;32m<ipython-input-1-24597e032bb5>\u001b[0m in \u001b[0;36m<module>\u001b[1;34m\u001b[0m\n\u001b[0;32m      5\u001b[0m \u001b[0mreduction_factor\u001b[0m \u001b[1;33m=\u001b[0m\u001b[1;36m.1\u001b[0m  \u001b[1;31m# Amount of dimension reduction {0,1}\u001b[0m\u001b[1;33m\u001b[0m\u001b[1;33m\u001b[0m\u001b[0m\n\u001b[0;32m      6\u001b[0m \u001b[0mn_clusters\u001b[0m \u001b[1;33m=\u001b[0m \u001b[0mint\u001b[0m\u001b[1;33m(\u001b[0m \u001b[0mn_words\u001b[0m \u001b[1;33m*\u001b[0m \u001b[0mreduction_factor\u001b[0m \u001b[1;33m)\u001b[0m \u001b[1;31m# Number of clusters to make\u001b[0m\u001b[1;33m\u001b[0m\u001b[1;33m\u001b[0m\u001b[0m\n\u001b[1;32m----> 7\u001b[1;33m \u001b[0mcluster_data\u001b[0m\u001b[1;33m,\u001b[0m \u001b[0mwordlist\u001b[0m \u001b[1;33m=\u001b[0m \u001b[0mfile_preprocess\u001b[0m\u001b[1;33m(\u001b[0m\u001b[0mcluster_data_file\u001b[0m\u001b[1;33m,\u001b[0m \u001b[0mnwords\u001b[0m \u001b[1;33m=\u001b[0m \u001b[0mn_words\u001b[0m\u001b[1;33m)\u001b[0m\u001b[1;33m\u001b[0m\u001b[1;33m\u001b[0m\u001b[0m\n\u001b[0m\u001b[0;32m      8\u001b[0m \u001b[1;33m\u001b[0m\u001b[0m\n\u001b[0;32m      9\u001b[0m \u001b[0mkmeans_model\u001b[0m \u001b[1;33m=\u001b[0m \u001b[0mKMeans\u001b[0m\u001b[1;33m(\u001b[0m\u001b[0minit\u001b[0m\u001b[1;33m=\u001b[0m\u001b[1;34m'k-means++'\u001b[0m\u001b[1;33m,\u001b[0m \u001b[0mn_clusters\u001b[0m\u001b[1;33m=\u001b[0m\u001b[0mn_clusters\u001b[0m\u001b[1;33m,\u001b[0m \u001b[0mn_init\u001b[0m\u001b[1;33m=\u001b[0m\u001b[1;36m15\u001b[0m\u001b[1;33m,\u001b[0m\u001b[0mrandom_state\u001b[0m\u001b[1;33m=\u001b[0m\u001b[1;36m1\u001b[0m\u001b[1;33m,\u001b[0m\u001b[0mmax_iter\u001b[0m\u001b[1;33m=\u001b[0m\u001b[1;36m500\u001b[0m\u001b[1;33m,\u001b[0m\u001b[0mverbose\u001b[0m\u001b[1;33m=\u001b[0m\u001b[1;36m1\u001b[0m\u001b[1;33m)\u001b[0m\u001b[1;33m\u001b[0m\u001b[1;33m\u001b[0m\u001b[0m\n",
      "\u001b[1;31mNameError\u001b[0m: name 'file_preprocess' is not defined"
     ]
    }
   ],
   "source": [
    "if __name__ == \"__main__\":\n",
    "    \n",
    "\n",
    "  cluster_data_file = \"/kaggle/input/clusterin_data.txt\" \n",
    "\n",
    "  #Number of words to analyse according to memory availability\n",
    "  n_words = 30000 # Number of words to analyse according to memory availability\n",
    "  reduction_factor =.1  # Amount of dimension reduction {0,1}\n",
    "  n_clusters = int( n_words * reduction_factor ) # Number of clusters to make\n",
    "  cluster_data, wordlist = file_preprocess(cluster_data_file, nwords = n_words)\n",
    "  \n",
    "  kmeans_model = KMeans(init='k-means++', n_clusters=n_clusters, n_init=15,random_state=1,max_iter=500,verbose=1)\n",
    "  kmeans_model.fit(cluster_data)\n",
    "\n",
    "  cluster_labels  = kmeans_model.labels_ #returns all cluster number assigned to each word respectively\n",
    "  cluster_to_words  = assign_word2cluster(wordlist, cluster_labels)\n",
    "\n",
    "  with io.open(\"/kaggle/working/outputArisGlob.txt\",mode='w+',encoding=\"UTF-8\") as file:\n",
    "    for key in sorted(cluster_to_words.keys()) :\n",
    "        file.writelines(\"Cluster \"+str(key) +\" :: \"+ \"|\".join( k for k in cluster_to_words[key])+\"\\n\")\n",
    "        print(\"Cluster \"+str(key) , \" :: \" , \"|\".join( k for k in cluster_to_words[key]))\n",
    "    file.close()"
   ]
  },
  {
   "cell_type": "code",
   "execution_count": null,
   "metadata": {},
   "outputs": [],
   "source": []
  }
 ],
 "metadata": {
  "kernelspec": {
   "display_name": "Python 3",
   "language": "python",
   "name": "python3"
  },
  "language_info": {
   "codemirror_mode": {
    "name": "ipython",
    "version": 3
   },
   "file_extension": ".py",
   "mimetype": "text/x-python",
   "name": "python",
   "nbconvert_exporter": "python",
   "pygments_lexer": "ipython3",
   "version": "3.7.3"
  }
 },
 "nbformat": 4,
 "nbformat_minor": 1
}
